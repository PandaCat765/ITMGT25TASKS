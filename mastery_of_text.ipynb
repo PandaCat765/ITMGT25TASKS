{
 "cells": [
  {
   "cell_type": "code",
   "execution_count": 2,
   "id": "1224e15a-5d1e-4291-b124-c8d3b2e4732b",
   "metadata": {},
   "outputs": [
    {
     "name": "stdout",
     "output_type": "stream",
     "text": [
      "1. The number of lines in the string is 99968.\n",
      "2. The number of words in the string is 793395.\n",
      "3. The word \"apostle\" appears 47 times.\n",
      "4. The most common word is \"the\". This word appears 64308 times in the string.\n"
     ]
    }
   ],
   "source": [
    "#FIRST PART\n",
    "\n",
    "import urllib.request\n",
    "\n",
    "url = \"https://www.gutenberg.org/cache/epub/10/pg10.txt\"\n",
    "contents = urllib.request.urlopen(url)\n",
    "pg10_bytes = contents.read()\n",
    "pg10 = pg10_bytes.decode('utf-8')\n",
    "\n",
    "#SECOND PART\n",
    "\n",
    "lines = pg10.splitlines()\n",
    "num_lines = len(lines)\n",
    "print(f\"1. The number of lines in the string is {num_lines}.\")\n",
    "\n",
    "rough_words = pg10.split()\n",
    "\n",
    "words = []\n",
    "\n",
    "for word in rough_words:\n",
    "    cleaned = \"\"\n",
    "    for char in word:\n",
    "        if char.isalpha():\n",
    "            cleaned += char\n",
    "    if cleaned:\n",
    "        words.append(cleaned)\n",
    "    \n",
    "num_words = len(words)\n",
    "\n",
    "print(f\"2. The number of words in the string is {num_words}.\")\n",
    "\n",
    "\n",
    "apostle_count = 0 \n",
    "\n",
    "for word in words:\n",
    "    if word.lower() == \"apostle\":\n",
    "        apostle_count += 1\n",
    "\n",
    "print(f'3. The word \"apostle\" appears {apostle_count} times.')\n",
    "\n",
    "lower_words = [word.lower() for word in words]\n",
    "word_counts = {}\n",
    "\n",
    "for word in lower_words:\n",
    "    if word in word_counts: \n",
    "        word_counts[word] += 1\n",
    "    else:\n",
    "        word_counts[word] = 1\n",
    "\n",
    "most_common_word = \"\"\n",
    "max_count = 0 \n",
    "\n",
    "for word in word_counts:\n",
    "    if word_counts[word] > max_count:\n",
    "        max_count = word_counts[word]\n",
    "        most_common_word = word \n",
    "\n",
    "\n",
    "print(f'4. The most common word is \"{most_common_word}\". This word appears {max_count} times in the string.')"
   ]
  },
  {
   "cell_type": "code",
   "execution_count": null,
   "id": "0c8b9992-14bb-4a2a-936d-0056c8c902db",
   "metadata": {},
   "outputs": [],
   "source": []
  }
 ],
 "metadata": {
  "kernelspec": {
   "display_name": "Python [conda env:base] *",
   "language": "python",
   "name": "conda-base-py"
  },
  "language_info": {
   "codemirror_mode": {
    "name": "ipython",
    "version": 3
   },
   "file_extension": ".py",
   "mimetype": "text/x-python",
   "name": "python",
   "nbconvert_exporter": "python",
   "pygments_lexer": "ipython3",
   "version": "3.12.7"
  }
 },
 "nbformat": 4,
 "nbformat_minor": 5
}
