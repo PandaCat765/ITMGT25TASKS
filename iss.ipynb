{
 "cells": [
  {
   "cell_type": "code",
   "execution_count": null,
   "id": "b1ebdd44-434d-4cca-9075-264e949cd4e1",
   "metadata": {},
   "outputs": [],
   "source": [
    "import requests\n",
    "import time\n",
    "import matplotlib.pyplot as plt\n",
    "\n",
    "latitudes = []\n",
    "longitudes = []\n",
    "timestamps = []\n",
    "\n",
    "for i in range(100):\n",
    "    response = requests.get(\"https://api.wheretheiss.at/v1/satellites/25544\")\n",
    "    if response.status_code == 200:\n",
    "        data = response.json()\n",
    "        latitudes.append(data[\"latitude\"])\n",
    "        longitudes.append(data[\"longitude\"])\n",
    "        timestamps.append(data[\"timestamp\"])\n",
    "    time.sleep(10)\n",
    "\n",
    "fig, ax = plt.subplots(figsize=(10,6))\n",
    "ax.plot(longitudes, latitudes, marker = 'o', linestyle = \"-\", color = \"blue\", label = \"ISS Path\")\n",
    "\n",
    "ax.set_title(\"International Space Station (ISS) Path\")\n",
    "ax.set_xlabel(\"Longitude\")\n",
    "ax.set_ylabel(\"Latitude\")\n",
    "ax.set_xlim(-180, 180)\n",
    "ax.set_ylim(-90, 90)\n",
    "ax.legend()\n",
    "\n",
    "plt.grid(True)\n",
    "plt.show()"
   ]
  },
  {
   "cell_type": "code",
   "execution_count": null,
   "id": "155779df-b664-4dbf-8b4f-dfd1ddaca63b",
   "metadata": {},
   "outputs": [],
   "source": []
  }
 ],
 "metadata": {
  "kernelspec": {
   "display_name": "Python [conda env:base] *",
   "language": "python",
   "name": "conda-base-py"
  },
  "language_info": {
   "codemirror_mode": {
    "name": "ipython",
    "version": 3
   },
   "file_extension": ".py",
   "mimetype": "text/x-python",
   "name": "python",
   "nbconvert_exporter": "python",
   "pygments_lexer": "ipython3",
   "version": "3.12.7"
  }
 },
 "nbformat": 4,
 "nbformat_minor": 5
}
